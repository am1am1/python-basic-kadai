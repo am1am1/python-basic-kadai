{
  "nbformat": 4,
  "nbformat_minor": 0,
  "metadata": {
    "colab": {
      "provenance": []
    },
    "kernelspec": {
      "name": "python3",
      "display_name": "Python 3"
    },
    "language_info": {
      "name": "python"
    }
  },
  "cells": [
    {
      "cell_type": "code",
      "execution_count": 10,
      "metadata": {
        "id": "qfpuTkTLkRnb"
      },
      "outputs": [],
      "source": [
        "from openpyxl import Workbook\n",
        "from openpyxl.styles import Alignment, Font, Border, Side\n",
        "from datetime import datetime\n",
        "\n",
        "# ワークブックとシートを作成\n",
        "wb = Workbook()\n",
        "ws = wb.active\n",
        "ws.title = \"請求書\"\n",
        "\n",
        "ws[\"B2\"] = \"請求書\"\n",
        "ws[\"B2\"].font = Font(size=16, bold=True)\n",
        "\n",
        "ws[\"B4\"] = \"株式会社ABC\"\n",
        "ws[\"B5\"] = \"〒101-0022 東京都千代田区神田練塀町300\"\n",
        "ws[\"B6\"] = \"TEL:03-1234-5678 FAX:03-1234-5678\"\n",
        "ws[\"B7\"] = \"担当者名:鈴木一郎 様\"\n",
        "\n",
        "ws[\"F4\"] = \"No.\"\n",
        "ws[\"G4\"] = \"0001\"\n",
        "ws[\"F5\"] = \"日付\"\n",
        "ws[\"G5\"] = datetime.now().strftime(\"%Y/%m/%d\")\n",
        "\n",
        "ws[\"B10\"] = \"商品名\"\n",
        "ws[\"C10\"] = \"数量\"\n",
        "ws[\"D10\"] = \"単価\"\n",
        "ws[\"E10\"] = \"金額\"\n",
        "\n",
        "products = [\n",
        "    [\"商品A\", 2, 10000, 20000],\n",
        "    [\"商品B\", 1, 15000, 15000],\n",
        "]\n",
        "\n",
        "row_start = 11\n",
        "for i, product in enumerate(products, start=row_start):\n",
        "    for j, value in enumerate(product, start=2):\n",
        "        ws.cell(row=i, column=j, value=value)\n",
        "\n",
        "# 小計、消費税、合計部分\n",
        "ws[\"B15\"] = \"小計\"\n",
        "ws[\"E15\"] = 35000\n",
        "ws[\"B16\"] = \"消費税\"\n",
        "ws[\"E16\"] = 3500\n",
        "ws[\"B17\"] = \"合計\"\n",
        "ws[\"E17\"] = 38500\n",
        "\n",
        "ws[\"B2\"].alignment = align_center\n",
        "ws[\"B10\"].font = ws[\"C10\"].font = ws[\"D10\"].font = ws[\"E10\"].font = bold_font\n",
        "\n",
        "\n",
        "today = datetime.today()\n",
        "backup_filename = f\"請求書_{today.strftime('%Y%m%d')}.xlsx\"\n",
        "\n",
        "wb.save(backup_filename)\n"
      ]
    }
  ]
}