{
  "nbformat": 4,
  "nbformat_minor": 0,
  "metadata": {
    "colab": {
      "provenance": []
    },
    "kernelspec": {
      "name": "python3",
      "display_name": "Python 3"
    },
    "language_info": {
      "name": "python"
    }
  },
  "cells": [
    {
      "cell_type": "code",
      "execution_count": 1,
      "metadata": {
        "colab": {
          "base_uri": "https://localhost:8080/"
        },
        "id": "Xp1yoaChlNRi",
        "outputId": "3ce8965c-fb8b-44ce-8c17-4e48c3a65eb2"
      },
      "outputs": [
        {
          "output_type": "stream",
          "name": "stdout",
          "text": [
            "330.0\n"
          ]
        }
      ],
      "source": [
        "# 価格を一度に定義\n",
        "price1, price2 = 100, 200\n",
        "\n",
        "def show_total():\n",
        "    # グローバル変数として利用\n",
        "    global price1\n",
        "    global price2\n",
        "    tax = 1.1\n",
        "    total = price1 + price2\n",
        "    return total, tax\n",
        "\n",
        "total, tax = show_total()\n",
        "print(total * tax)\n",
        "\n"
      ]
    }
  ]
}