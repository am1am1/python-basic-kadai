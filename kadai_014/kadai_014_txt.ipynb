{
  "nbformat": 4,
  "nbformat_minor": 0,
  "metadata": {
    "colab": {
      "provenance": []
    },
    "kernelspec": {
      "name": "python3",
      "display_name": "Python 3"
    },
    "language_info": {
      "name": "python"
    }
  },
  "cells": [
    {
      "cell_type": "code",
      "execution_count": 4,
      "metadata": {
        "colab": {
          "base_uri": "https://localhost:8080/"
        },
        "id": "Xp1yoaChlNRi",
        "outputId": "1e0bf9c1-a6d8-45b9-d2c2-dd01daa800a8"
      },
      "outputs": [
        {
          "output_type": "stream",
          "name": "stdout",
          "text": [
            "440.00000000000006\n"
          ]
        }
      ],
      "source": [
        "price1 = 100\n",
        "price2 = 200\n",
        "\n",
        "def show_total():\n",
        "    price1 = 100\n",
        "    price2 = 300\n",
        "    tax = 1.1\n",
        "    total = price1 + price2\n",
        "\n",
        "    return total, tax\n",
        "\n",
        "total, tax = show_total()\n",
        "print(total * tax)\n"
      ]
    }
  ]
}