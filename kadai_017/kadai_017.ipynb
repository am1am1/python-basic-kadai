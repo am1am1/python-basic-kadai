{
  "nbformat": 4,
  "nbformat_minor": 0,
  "metadata": {
    "colab": {
      "provenance": []
    },
    "kernelspec": {
      "name": "python3",
      "display_name": "Python 3"
    },
    "language_info": {
      "name": "python"
    }
  },
  "cells": [
    {
      "cell_type": "code",
      "execution_count": 13,
      "metadata": {
        "colab": {
          "base_uri": "https://localhost:8080/"
        },
        "id": "l078q9XJmKwZ",
        "outputId": "632c8bf3-8354-4e2c-c296-2361d4b02cc6"
      },
      "outputs": [
        {
          "output_type": "stream",
          "name": "stdout",
          "text": [
            "侍太郎さんは大人です。\n",
            "侍花子さんは大人ではありません。\n",
            "侍次郎さんは大人です。\n",
            "侍桃子さんは大人ではありません。\n"
          ]
        }
      ],
      "source": [
        "class Human:\n",
        "    def __init__(self, name, age):\n",
        "        self.name = name\n",
        "        self.age = age\n",
        "\n",
        "    def check_adult(self):\n",
        "        if self.age >= 20:\n",
        "            print(f\"{self.name}さんは大人です。\")\n",
        "        else:\n",
        "            print(f\"{self.name}さんは大人ではありません。\")\n",
        "\n",
        "# Humanクラスのインスタンスを生成し、リストに追加\n",
        "humans = [\n",
        "    Human(\"侍太郎\", 25),\n",
        "    Human(\"侍花子\", 18),\n",
        "    Human(\"侍次郎\", 30),\n",
        "    Human(\"侍桃子\", 15)\n",
        "]\n",
        "\n",
        "# リスト内の各要素のcheck_adultメソッドを呼び出し\n",
        "for human in humans:\n",
        "    human.check_adult()\n"
      ]
    }
  ]
}