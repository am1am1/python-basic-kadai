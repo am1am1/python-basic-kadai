{
  "nbformat": 4,
  "nbformat_minor": 0,
  "metadata": {
    "colab": {
      "provenance": []
    },
    "kernelspec": {
      "name": "python3",
      "display_name": "Python 3"
    },
    "language_info": {
      "name": "python"
    }
  },
  "cells": [
    {
      "cell_type": "code",
      "source": [
        "def calculate_total_price(price, tax_rate):\n",
        "    \"\"\"\n",
        "    商品価格と消費税率を受け取り、消費税込みの合計金額を計算する関数\n",
        "\n",
        "    :param price: 商品の金額 (数値)\n",
        "    :param tax_rate: 消費税率 (例: 0.10 は 10%)\n",
        "    :return: 消費税を加えた合計金額\n",
        "    \"\"\"\n",
        "    total_price = price * (1 + tax_rate)\n",
        "    return total_price\n",
        "#例として商品の金額を1000円、消費税率を10％とした場合\n",
        "price = 1000\n",
        "tax_rate = 0.10\n",
        "total = calculate_total_price(price, tax_rate)\n",
        "print(f\"消費税込みの金額は: {total}円です\")\n"
      ],
      "metadata": {
        "id": "RL7trMhzjQwb",
        "colab": {
          "base_uri": "https://localhost:8080/"
        },
        "outputId": "9afb557d-fca2-411e-93ce-1d86a217aa16"
      },
      "execution_count": 29,
      "outputs": [
        {
          "output_type": "stream",
          "name": "stdout",
          "text": [
            "消費税込みの金額は: 1100.0円です\n"
          ]
        }
      ]
    }
  ]
}