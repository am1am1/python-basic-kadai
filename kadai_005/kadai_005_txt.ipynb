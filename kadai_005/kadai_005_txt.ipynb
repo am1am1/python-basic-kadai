{
  "nbformat": 4,
  "nbformat_minor": 0,
  "metadata": {
    "colab": {
      "provenance": []
    },
    "kernelspec": {
      "name": "python3",
      "display_name": "Python 3"
    },
    "language_info": {
      "name": "python"
    }
  },
  "cells": [
    {
      "cell_type": "code",
      "execution_count": null,
      "metadata": {
        "colab": {
          "base_uri": "https://localhost:8080/"
        },
        "id": "z606IHEBebng",
        "outputId": "47edebf8-f297-4bfc-82b6-0996269a89e2"
      },
      "outputs": [
        {
          "output_type": "stream",
          "name": "stdout",
          "text": [
            "75.0cm²\n"
          ]
        }
      ],
      "source": [
        "# 上辺、下辺、高さの値を設定\n",
        "top = 10  # 上辺（cm）\n",
        "bottom = 20  # 下辺（cm）\n",
        "height = 5  # 高さ（cm）\n",
        "\n",
        "# 台形の面積を計算\n",
        "area = (top + bottom) * height / 2\n",
        "\n",
        "# 結果を出力\n",
        "print(f\"{area}cm²\")\n"
      ]
    }
  ]
}